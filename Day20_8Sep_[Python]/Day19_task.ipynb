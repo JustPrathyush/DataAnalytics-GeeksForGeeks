{
  "nbformat": 4,
  "nbformat_minor": 0,
  "metadata": {
    "colab": {
      "provenance": []
    },
    "kernelspec": {
      "name": "python3",
      "display_name": "Python 3"
    },
    "language_info": {
      "name": "python"
    }
  },
  "cells": [
    {
      "cell_type": "markdown",
      "source": [
        "●\tA gym trainer claimed that all the new boys in the gym are above the average weight. A random sample of 30 boys has a mean score of 112.5 kg, the population mean weight is 100 kg, and the standard deviation is 15. Is there sufficient evidence to support the claim of the gym trainer, consider the significance level as 0.05?\n",
        "(The z-score of 0.05 is 1.645) - refer to the table\n",
        "Result - reject the H0\n",
        "\n"
      ],
      "metadata": {
        "id": "I4W2Hn0IyT51"
      }
    },
    {
      "cell_type": "code",
      "source": [
        "import numpy as np\n",
        "import scipy.stats as stats\n",
        "\n",
        "n=30\n",
        "x_bar=112.5\n",
        "sigma=15\n",
        "mu_0=100\n",
        "\n",
        "z_test=(x_bar-mu_0)/(sigma/np.sqrt(n))\n",
        "print(\"Z-test calculated value:\",z_test)\n",
        "\n",
        "degree_of_freedom=n-1\n",
        "#- p is the probability (e.g., 0.95 for a two-tailed test with alpha=0.05)\n",
        "#loc is the mean (default is 0)\n",
        "#scale is the standard deviation (default is 1)\n",
        "\n",
        "critical_value=stats.norm.ppf(1-0.05,0,1)\n",
        "print(\"Critical value:\",critical_value)\n",
        "\n",
        "# Conclusion\n",
        "if z_test>critical_value:\n",
        "  print(\"Reject H0\")\n",
        "else:\n",
        "  print(\"Fail to Reject H0\")"
      ],
      "metadata": {
        "colab": {
          "base_uri": "https://localhost:8080/"
        },
        "id": "TjCSgXFuJANa",
        "outputId": "3680d697-6da4-4cfc-9cf1-0de0ad64a719"
      },
      "execution_count": 1,
      "outputs": [
        {
          "output_type": "stream",
          "name": "stdout",
          "text": [
            "Z-test calculated value: 4.564354645876384\n",
            "Critical value: 1.6448536269514722\n",
            "Reject H0\n"
          ]
        }
      ]
    },
    {
      "cell_type": "markdown",
      "source": [
        "●\tA dietician claims that a low-carb diet leads to an average reduction in blood glucose levels of 10 mg/dL after 4 weeks. A sample of 15 patients who followed the diet had a mean decrease of 8.5 mg/dL with a standard deviation of 2.1 mg/dL.\n",
        "Test the dietician's claim at a 5% significance level.\n",
        "(The t-value is -1.761)\n",
        "Result - reject the H0\n"
      ],
      "metadata": {
        "id": "71eGRP7HyQgl"
      }
    },
    {
      "cell_type": "code",
      "source": [
        "import scipy.stats as stats\n",
        "\n",
        "# Given data\n",
        "population_mean = 10 # Population mean\n",
        "sample_mean = 8.5 # Sample mean\n",
        "sample_std = 2.1 # Sample standard deviation\n",
        "sample_size = 15 # Sample size\n",
        "significance_level = 0.05 # Significance level\n",
        "\n",
        "# Calculate the t-statistic\n",
        "t_statistic = (sample_mean - population_mean) / (sample_std / (sample_size ** 0.5))\n",
        "\n",
        "# Calculate the degrees of freedom\n",
        "## degrees_of_freedom = 39\n",
        "degrees_of_freedom = sample_size - 1\n",
        "\n",
        "# Calculate the critical value for a two-tailed test\n",
        "critical_value = stats.t.ppf(1 - significance_level / 2, degrees_of_freedom)\n",
        "\n",
        "# Print the results\n",
        "print(\"t-statistic:\", t_statistic)\n",
        "print(\"Critical value:\", critical_value)\n",
        "\n",
        "# Make a decision\n",
        "if abs(t_statistic) > critical_value:\n",
        "  print(\"Reject the null hypothesis.\")\n",
        "else:\n",
        "  print(\"Fail to reject the null hypothesis.\")"
      ],
      "metadata": {
        "colab": {
          "base_uri": "https://localhost:8080/"
        },
        "id": "I3YsMcFZJ26U",
        "outputId": "88c1c4e8-e13e-46b3-9fec-b7d8a32e7c5f"
      },
      "execution_count": 2,
      "outputs": [
        {
          "output_type": "stream",
          "name": "stdout",
          "text": [
            "t-statistic: -2.76641667586244\n",
            "Critical value: 2.1447866879169273\n",
            "Reject the null hypothesis.\n"
          ]
        }
      ]
    },
    {
      "cell_type": "code",
      "source": [],
      "metadata": {
        "id": "iE-UAH4MQmyr"
      },
      "execution_count": null,
      "outputs": []
    }
  ]
}