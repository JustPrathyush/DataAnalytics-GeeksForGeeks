{
  "nbformat": 4,
  "nbformat_minor": 0,
  "metadata": {
    "colab": {
      "provenance": []
    },
    "kernelspec": {
      "name": "python3",
      "display_name": "Python 3"
    },
    "language_info": {
      "name": "python"
    }
  },
  "cells": [
    {
      "cell_type": "markdown",
      "source": [
        "Import the required packages"
      ],
      "metadata": {
        "id": "5LPr5amPpDGU"
      }
    },
    {
      "cell_type": "code",
      "execution_count": 1,
      "metadata": {
        "id": "kGpH5EIPm0mg"
      },
      "outputs": [],
      "source": [
        "import numpy as np"
      ]
    },
    {
      "cell_type": "markdown",
      "source": [
        "1-Dimensional Array"
      ],
      "metadata": {
        "id": "GchiuMnhpJEB"
      }
    },
    {
      "cell_type": "code",
      "source": [
        "arr_1D = np.array([1, 3, 5, 7, 11, 15, 12, 13, 20])\n",
        "arr_1D"
      ],
      "metadata": {
        "colab": {
          "base_uri": "https://localhost:8080/"
        },
        "id": "Y1Xl4wZapIDb",
        "outputId": "de4b1d26-354c-46a2-e89a-616092ccfa18"
      },
      "execution_count": 2,
      "outputs": [
        {
          "output_type": "execute_result",
          "data": {
            "text/plain": [
              "array([ 1,  3,  5,  7, 11, 15, 12, 13, 20])"
            ]
          },
          "metadata": {},
          "execution_count": 2
        }
      ]
    },
    {
      "cell_type": "code",
      "source": [
        "type(arr_1D)"
      ],
      "metadata": {
        "colab": {
          "base_uri": "https://localhost:8080/"
        },
        "id": "sy0MxZwkpY_p",
        "outputId": "a5107f31-d1ee-4b8f-81df-edb3d9e20d03"
      },
      "execution_count": 3,
      "outputs": [
        {
          "output_type": "execute_result",
          "data": {
            "text/plain": [
              "numpy.ndarray"
            ]
          },
          "metadata": {},
          "execution_count": 3
        }
      ]
    },
    {
      "cell_type": "code",
      "source": [
        "arr_1D.ndim"
      ],
      "metadata": {
        "colab": {
          "base_uri": "https://localhost:8080/"
        },
        "id": "ZiSmQ7eYpkjB",
        "outputId": "d02b1ba2-7943-49ac-f3f1-ee42180dde03"
      },
      "execution_count": 4,
      "outputs": [
        {
          "output_type": "execute_result",
          "data": {
            "text/plain": [
              "1"
            ]
          },
          "metadata": {},
          "execution_count": 4
        }
      ]
    },
    {
      "cell_type": "code",
      "source": [
        "arr_1D.shape"
      ],
      "metadata": {
        "colab": {
          "base_uri": "https://localhost:8080/"
        },
        "id": "wiBeO3Wypuhw",
        "outputId": "fd99848b-3f20-411e-86e2-5bddf6893d14"
      },
      "execution_count": 5,
      "outputs": [
        {
          "output_type": "execute_result",
          "data": {
            "text/plain": [
              "(9,)"
            ]
          },
          "metadata": {},
          "execution_count": 5
        }
      ]
    },
    {
      "cell_type": "markdown",
      "source": [
        "2-Dimensional Array"
      ],
      "metadata": {
        "id": "7gfn2nW6qCPc"
      }
    },
    {
      "cell_type": "code",
      "source": [
        "arr_2D = np.array([[1, 3, 7], [2, 4, 6]])\n",
        "arr_2D"
      ],
      "metadata": {
        "colab": {
          "base_uri": "https://localhost:8080/"
        },
        "id": "yzC-1QBcp1Nu",
        "outputId": "1c90bf9c-4362-4d0c-c04b-df2ce66fb545"
      },
      "execution_count": 6,
      "outputs": [
        {
          "output_type": "execute_result",
          "data": {
            "text/plain": [
              "array([[1, 3, 7],\n",
              "       [2, 4, 6]])"
            ]
          },
          "metadata": {},
          "execution_count": 6
        }
      ]
    },
    {
      "cell_type": "code",
      "source": [
        "type(arr_2D)"
      ],
      "metadata": {
        "colab": {
          "base_uri": "https://localhost:8080/"
        },
        "id": "pXbaG2baqWZ7",
        "outputId": "c4358257-9a93-42d6-87b4-583cb2109142"
      },
      "execution_count": 7,
      "outputs": [
        {
          "output_type": "execute_result",
          "data": {
            "text/plain": [
              "numpy.ndarray"
            ]
          },
          "metadata": {},
          "execution_count": 7
        }
      ]
    },
    {
      "cell_type": "code",
      "source": [
        "arr_2D.ndim"
      ],
      "metadata": {
        "colab": {
          "base_uri": "https://localhost:8080/"
        },
        "id": "PfCM_-VVqaAW",
        "outputId": "0a1f2480-fb1b-4666-ab95-f0a0bc1c9d80"
      },
      "execution_count": 8,
      "outputs": [
        {
          "output_type": "execute_result",
          "data": {
            "text/plain": [
              "2"
            ]
          },
          "metadata": {},
          "execution_count": 8
        }
      ]
    },
    {
      "cell_type": "code",
      "source": [
        "arr_2D.shape"
      ],
      "metadata": {
        "colab": {
          "base_uri": "https://localhost:8080/"
        },
        "id": "Gb85bDNVqdmL",
        "outputId": "47413d7d-8504-4409-cc5c-a7433ccb3e6b"
      },
      "execution_count": 9,
      "outputs": [
        {
          "output_type": "execute_result",
          "data": {
            "text/plain": [
              "(2, 3)"
            ]
          },
          "metadata": {},
          "execution_count": 9
        }
      ]
    },
    {
      "cell_type": "markdown",
      "source": [
        "To access the element: Random access in an array"
      ],
      "metadata": {
        "id": "dcrgUwA3rGO2"
      }
    },
    {
      "cell_type": "code",
      "source": [
        "arr_2D[1][1]"
      ],
      "metadata": {
        "colab": {
          "base_uri": "https://localhost:8080/"
        },
        "id": "4xiN07EtqyEZ",
        "outputId": "980f8562-a16c-4558-e340-ce4aecb96ced"
      },
      "execution_count": 10,
      "outputs": [
        {
          "output_type": "execute_result",
          "data": {
            "text/plain": [
              "4"
            ]
          },
          "metadata": {},
          "execution_count": 10
        }
      ]
    },
    {
      "cell_type": "markdown",
      "source": [
        "3-Dimensional Array"
      ],
      "metadata": {
        "id": "WP27N8RJraMh"
      }
    },
    {
      "cell_type": "code",
      "source": [
        "arr_3D = np.array([[[1,3], [2,4]], [[2,6], [7,9]]])\n",
        "arr_3D"
      ],
      "metadata": {
        "colab": {
          "base_uri": "https://localhost:8080/"
        },
        "id": "vfDVWH9jrEap",
        "outputId": "6b22edf1-ef87-4c1b-ffe2-025a40016037"
      },
      "execution_count": 11,
      "outputs": [
        {
          "output_type": "execute_result",
          "data": {
            "text/plain": [
              "array([[[1, 3],\n",
              "        [2, 4]],\n",
              "\n",
              "       [[2, 6],\n",
              "        [7, 9]]])"
            ]
          },
          "metadata": {},
          "execution_count": 11
        }
      ]
    },
    {
      "cell_type": "code",
      "source": [
        "type(arr_3D)"
      ],
      "metadata": {
        "colab": {
          "base_uri": "https://localhost:8080/"
        },
        "id": "hQmxpnAhrwt0",
        "outputId": "57be056b-0d3a-4936-e791-fb5b9c4d752f"
      },
      "execution_count": 12,
      "outputs": [
        {
          "output_type": "execute_result",
          "data": {
            "text/plain": [
              "numpy.ndarray"
            ]
          },
          "metadata": {},
          "execution_count": 12
        }
      ]
    },
    {
      "cell_type": "code",
      "source": [
        "arr_3D.ndim"
      ],
      "metadata": {
        "colab": {
          "base_uri": "https://localhost:8080/"
        },
        "id": "K3mxKR1rr9Cd",
        "outputId": "62976017-b58b-4f1c-db44-f9d88eca4ca6"
      },
      "execution_count": 13,
      "outputs": [
        {
          "output_type": "execute_result",
          "data": {
            "text/plain": [
              "3"
            ]
          },
          "metadata": {},
          "execution_count": 13
        }
      ]
    },
    {
      "cell_type": "code",
      "source": [
        "arr_3D.shape"
      ],
      "metadata": {
        "colab": {
          "base_uri": "https://localhost:8080/"
        },
        "id": "p1kjH99Xr_qW",
        "outputId": "085d87af-f9cb-442f-a359-5e7b3060f088"
      },
      "execution_count": 14,
      "outputs": [
        {
          "output_type": "execute_result",
          "data": {
            "text/plain": [
              "(2, 2, 2)"
            ]
          },
          "metadata": {},
          "execution_count": 14
        }
      ]
    },
    {
      "cell_type": "code",
      "source": [
        "arr_3D_v2 = np.array([[[1,3], [2,4]], [[2,6], [7,9]], [[2,3], [7,12]]])\n",
        "arr_3D_v2"
      ],
      "metadata": {
        "colab": {
          "base_uri": "https://localhost:8080/"
        },
        "id": "iPXROlNHsx09",
        "outputId": "a3aa23e0-273d-4a67-9442-428fc41b01ce"
      },
      "execution_count": 18,
      "outputs": [
        {
          "output_type": "execute_result",
          "data": {
            "text/plain": [
              "array([[[ 1,  3],\n",
              "        [ 2,  4]],\n",
              "\n",
              "       [[ 2,  6],\n",
              "        [ 7,  9]],\n",
              "\n",
              "       [[ 2,  3],\n",
              "        [ 7, 12]]])"
            ]
          },
          "metadata": {},
          "execution_count": 18
        }
      ]
    },
    {
      "cell_type": "code",
      "source": [
        "arr_3D_v2.shape"
      ],
      "metadata": {
        "colab": {
          "base_uri": "https://localhost:8080/"
        },
        "id": "HPUFEyXMtNxv",
        "outputId": "fa344df9-0e30-4971-8a4b-86c8fbe14d85"
      },
      "execution_count": 16,
      "outputs": [
        {
          "output_type": "execute_result",
          "data": {
            "text/plain": [
              "(3, 2, 2)"
            ]
          },
          "metadata": {},
          "execution_count": 16
        }
      ]
    },
    {
      "cell_type": "code",
      "source": [
        "arr_3D_v2[1]"
      ],
      "metadata": {
        "colab": {
          "base_uri": "https://localhost:8080/"
        },
        "id": "9Nl2QGK7tcLT",
        "outputId": "baffc5ad-f53c-4667-f7b3-d0201aee49b7"
      },
      "execution_count": 19,
      "outputs": [
        {
          "output_type": "execute_result",
          "data": {
            "text/plain": [
              "array([[2, 6],\n",
              "       [7, 9]])"
            ]
          },
          "metadata": {},
          "execution_count": 19
        }
      ]
    },
    {
      "cell_type": "markdown",
      "source": [
        "To access the element in 3D array"
      ],
      "metadata": {
        "id": "bsXSo0PVudZP"
      }
    },
    {
      "cell_type": "code",
      "source": [
        "arr_3D_v2[1][1][1]"
      ],
      "metadata": {
        "colab": {
          "base_uri": "https://localhost:8080/"
        },
        "id": "h2Q37-zBuOwk",
        "outputId": "623d1274-b77c-4e3f-b8fe-81758bf6dad6"
      },
      "execution_count": 20,
      "outputs": [
        {
          "output_type": "execute_result",
          "data": {
            "text/plain": [
              "9"
            ]
          },
          "metadata": {},
          "execution_count": 20
        }
      ]
    },
    {
      "cell_type": "code",
      "source": [
        "arr_3D_v2[2][1][1]"
      ],
      "metadata": {
        "colab": {
          "base_uri": "https://localhost:8080/"
        },
        "id": "U5qCjltfubJx",
        "outputId": "0f33a02a-925c-4376-845d-21748f7b0534"
      },
      "execution_count": 22,
      "outputs": [
        {
          "output_type": "execute_result",
          "data": {
            "text/plain": [
              "12"
            ]
          },
          "metadata": {},
          "execution_count": 22
        }
      ]
    },
    {
      "cell_type": "markdown",
      "source": [
        "Built-in functions in Numpy"
      ],
      "metadata": {
        "id": "y0KtVs6avmiD"
      }
    },
    {
      "cell_type": "code",
      "source": [
        "## Data Generation\n",
        "## np.arange(start, stop[exclusive], step_size)\n",
        "np.arange(1, 9, 2)"
      ],
      "metadata": {
        "colab": {
          "base_uri": "https://localhost:8080/"
        },
        "id": "uPO5UHjBvHfX",
        "outputId": "bd7dd3b1-9334-4993-dcbb-5df4d11dc9ed"
      },
      "execution_count": 23,
      "outputs": [
        {
          "output_type": "execute_result",
          "data": {
            "text/plain": [
              "array([1, 3, 5, 7])"
            ]
          },
          "metadata": {},
          "execution_count": 23
        }
      ]
    },
    {
      "cell_type": "code",
      "source": [
        "## generate the data points having even numbers only in the range from 2 to 100 (inclusive)\n",
        "np.arange(2, 101, 2)"
      ],
      "metadata": {
        "colab": {
          "base_uri": "https://localhost:8080/"
        },
        "id": "YD85upcAv0wJ",
        "outputId": "9e50d7c5-d0a8-4055-e8d4-16ed18474d34"
      },
      "execution_count": 24,
      "outputs": [
        {
          "output_type": "execute_result",
          "data": {
            "text/plain": [
              "array([  2,   4,   6,   8,  10,  12,  14,  16,  18,  20,  22,  24,  26,\n",
              "        28,  30,  32,  34,  36,  38,  40,  42,  44,  46,  48,  50,  52,\n",
              "        54,  56,  58,  60,  62,  64,  66,  68,  70,  72,  74,  76,  78,\n",
              "        80,  82,  84,  86,  88,  90,  92,  94,  96,  98, 100])"
            ]
          },
          "metadata": {},
          "execution_count": 24
        }
      ]
    },
    {
      "cell_type": "code",
      "source": [
        "np.linspace(1, 9, 7)"
      ],
      "metadata": {
        "colab": {
          "base_uri": "https://localhost:8080/"
        },
        "id": "yWFZRKO8wehw",
        "outputId": "654fba98-5066-4216-d8b0-8cfc56fea580"
      },
      "execution_count": 25,
      "outputs": [
        {
          "output_type": "execute_result",
          "data": {
            "text/plain": [
              "array([1.        , 2.33333333, 3.66666667, 5.        , 6.33333333,\n",
              "       7.66666667, 9.        ])"
            ]
          },
          "metadata": {},
          "execution_count": 25
        }
      ]
    },
    {
      "cell_type": "code",
      "source": [
        "np.linspace(2, 10, 5)"
      ],
      "metadata": {
        "colab": {
          "base_uri": "https://localhost:8080/"
        },
        "id": "YZivaugCwpcL",
        "outputId": "239afe37-8c7b-4ebc-82fc-f00cdfdf3876"
      },
      "execution_count": 26,
      "outputs": [
        {
          "output_type": "execute_result",
          "data": {
            "text/plain": [
              "array([ 2.,  4.,  6.,  8., 10.])"
            ]
          },
          "metadata": {},
          "execution_count": 26
        }
      ]
    },
    {
      "cell_type": "code",
      "source": [
        "## generate the data points having starting as 2, ending as 100 and the number of entries should be 20\n",
        "np.linspace(2, 100, 20)"
      ],
      "metadata": {
        "colab": {
          "base_uri": "https://localhost:8080/"
        },
        "id": "JXsAhVkYw2Zv",
        "outputId": "d5dea45e-384e-4eba-e2e3-86def6c427de"
      },
      "execution_count": 27,
      "outputs": [
        {
          "output_type": "execute_result",
          "data": {
            "text/plain": [
              "array([  2.        ,   7.15789474,  12.31578947,  17.47368421,\n",
              "        22.63157895,  27.78947368,  32.94736842,  38.10526316,\n",
              "        43.26315789,  48.42105263,  53.57894737,  58.73684211,\n",
              "        63.89473684,  69.05263158,  74.21052632,  79.36842105,\n",
              "        84.52631579,  89.68421053,  94.84210526, 100.        ])"
            ]
          },
          "metadata": {},
          "execution_count": 27
        }
      ]
    },
    {
      "cell_type": "markdown",
      "source": [
        "Difference between shallow copy and deep copy"
      ],
      "metadata": {
        "id": "WnM-g44DyZeu"
      }
    },
    {
      "cell_type": "code",
      "source": [
        "import copy\n",
        "original_data = [[1, 2, 3], [4, 5, 6]]\n",
        "shallow_copy_data = copy.copy(original_data)\n",
        "\n",
        "print(original_data)\n",
        "\n",
        "print(shallow_copy_data)"
      ],
      "metadata": {
        "colab": {
          "base_uri": "https://localhost:8080/"
        },
        "id": "xjfQrYj-yL1l",
        "outputId": "21bb2da8-d4a8-446a-c44d-7dd52f5e4c91"
      },
      "execution_count": 28,
      "outputs": [
        {
          "output_type": "stream",
          "name": "stdout",
          "text": [
            "[[1, 2, 3], [4, 5, 6]]\n",
            "[[1, 2, 3], [4, 5, 6]]\n"
          ]
        }
      ]
    },
    {
      "cell_type": "code",
      "source": [
        "shallow_copy_data[0][2] = 10\n",
        "print(\"Original list\", original_data)\n",
        "print(\"Shallow Copied list\", shallow_copy_data)"
      ],
      "metadata": {
        "colab": {
          "base_uri": "https://localhost:8080/"
        },
        "id": "zGiDCVajy1Ip",
        "outputId": "bbbecab1-45a1-4606-fb31-ad6d7c4d5a6f"
      },
      "execution_count": 29,
      "outputs": [
        {
          "output_type": "stream",
          "name": "stdout",
          "text": [
            "Original list [[1, 2, 10], [4, 5, 6]]\n",
            "Shallow Copied list [[1, 2, 10], [4, 5, 6]]\n"
          ]
        }
      ]
    },
    {
      "cell_type": "code",
      "source": [
        "import copy\n",
        "original_data = [[1, 2, 3], [4, 5, 6]]\n",
        "deep_copy_data = copy.deepcopy(original_data)\n",
        "\n",
        "print(original_data)\n",
        "\n",
        "print(deep_copy_data)"
      ],
      "metadata": {
        "colab": {
          "base_uri": "https://localhost:8080/"
        },
        "id": "OefLNFQszrkV",
        "outputId": "ecaaca4c-49c3-4261-ad6b-8c223672fd4d"
      },
      "execution_count": 30,
      "outputs": [
        {
          "output_type": "stream",
          "name": "stdout",
          "text": [
            "[[1, 2, 3], [4, 5, 6]]\n",
            "[[1, 2, 3], [4, 5, 6]]\n"
          ]
        }
      ]
    },
    {
      "cell_type": "code",
      "source": [
        "deep_copy_data[0][2] = 10\n",
        "print(\"Original list\", original_data)\n",
        "print(\"Deep Copied list\", deep_copy_data)"
      ],
      "metadata": {
        "colab": {
          "base_uri": "https://localhost:8080/"
        },
        "id": "uH3mNLOE0kRG",
        "outputId": "600e8690-e4dd-4106-91b6-c9c9fe43c8c8"
      },
      "execution_count": 32,
      "outputs": [
        {
          "output_type": "stream",
          "name": "stdout",
          "text": [
            "Original list [[1, 2, 3], [4, 5, 6]]\n",
            "Deep Copied list [[1, 2, 10], [4, 5, 6]]\n"
          ]
        }
      ]
    },
    {
      "cell_type": "markdown",
      "source": [
        "fromfunction in numpy - Data Creation"
      ],
      "metadata": {
        "id": "L-8gy78K1CmY"
      }
    },
    {
      "cell_type": "code",
      "source": [
        "np.fromfunction(lambda i, j: i*j, (5,5))"
      ],
      "metadata": {
        "colab": {
          "base_uri": "https://localhost:8080/"
        },
        "id": "KY8BMak10qhq",
        "outputId": "4eee826c-5983-4913-ceaa-2de4897adc07"
      },
      "execution_count": 33,
      "outputs": [
        {
          "output_type": "execute_result",
          "data": {
            "text/plain": [
              "array([[ 0.,  0.,  0.,  0.,  0.],\n",
              "       [ 0.,  1.,  2.,  3.,  4.],\n",
              "       [ 0.,  2.,  4.,  6.,  8.],\n",
              "       [ 0.,  3.,  6.,  9., 12.],\n",
              "       [ 0.,  4.,  8., 12., 16.]])"
            ]
          },
          "metadata": {},
          "execution_count": 33
        }
      ]
    },
    {
      "cell_type": "code",
      "source": [
        "## Create a boolean matrix in which if the index numbers are same, return true otherwise return false and the size of the array should be (4,4)\n",
        "np.fromfunction(lambda i, j: i==j, (4,4))"
      ],
      "metadata": {
        "colab": {
          "base_uri": "https://localhost:8080/"
        },
        "id": "BhsbztzS1hvu",
        "outputId": "ffd7bd52-7747-4355-c45a-a4aa380ffe5d"
      },
      "execution_count": 34,
      "outputs": [
        {
          "output_type": "execute_result",
          "data": {
            "text/plain": [
              "array([[ True, False, False, False],\n",
              "       [False,  True, False, False],\n",
              "       [False, False,  True, False],\n",
              "       [False, False, False,  True]])"
            ]
          },
          "metadata": {},
          "execution_count": 34
        }
      ]
    },
    {
      "cell_type": "code",
      "source": [
        "## Create a dataset in the range from 2 to 9 having 50 entries in it\n",
        "dataset = np.linspace(2, 9, 50)\n",
        "dataset"
      ],
      "metadata": {
        "colab": {
          "base_uri": "https://localhost:8080/"
        },
        "id": "XLWCFM4H3jNv",
        "outputId": "3d041c72-adc4-40d1-b433-15dccef03567"
      },
      "execution_count": 35,
      "outputs": [
        {
          "output_type": "execute_result",
          "data": {
            "text/plain": [
              "array([2.        , 2.14285714, 2.28571429, 2.42857143, 2.57142857,\n",
              "       2.71428571, 2.85714286, 3.        , 3.14285714, 3.28571429,\n",
              "       3.42857143, 3.57142857, 3.71428571, 3.85714286, 4.        ,\n",
              "       4.14285714, 4.28571429, 4.42857143, 4.57142857, 4.71428571,\n",
              "       4.85714286, 5.        , 5.14285714, 5.28571429, 5.42857143,\n",
              "       5.57142857, 5.71428571, 5.85714286, 6.        , 6.14285714,\n",
              "       6.28571429, 6.42857143, 6.57142857, 6.71428571, 6.85714286,\n",
              "       7.        , 7.14285714, 7.28571429, 7.42857143, 7.57142857,\n",
              "       7.71428571, 7.85714286, 8.        , 8.14285714, 8.28571429,\n",
              "       8.42857143, 8.57142857, 8.71428571, 8.85714286, 9.        ])"
            ]
          },
          "metadata": {},
          "execution_count": 35
        }
      ]
    },
    {
      "cell_type": "code",
      "source": [
        "dataset.ndim"
      ],
      "metadata": {
        "colab": {
          "base_uri": "https://localhost:8080/"
        },
        "id": "Ogqbv_J_4VJE",
        "outputId": "16231534-8f00-4ae2-9ccf-ce3c028a43bd"
      },
      "execution_count": 36,
      "outputs": [
        {
          "output_type": "execute_result",
          "data": {
            "text/plain": [
              "1"
            ]
          },
          "metadata": {},
          "execution_count": 36
        }
      ]
    },
    {
      "cell_type": "code",
      "source": [
        "dataset.shape"
      ],
      "metadata": {
        "colab": {
          "base_uri": "https://localhost:8080/"
        },
        "id": "dgQgMNxM4amS",
        "outputId": "9abaa00c-dd50-431b-bd0e-48cae4bd5e17"
      },
      "execution_count": 37,
      "outputs": [
        {
          "output_type": "execute_result",
          "data": {
            "text/plain": [
              "(50,)"
            ]
          },
          "metadata": {},
          "execution_count": 37
        }
      ]
    },
    {
      "cell_type": "markdown",
      "source": [
        "Reshape in numpy: change the shape of any dataset"
      ],
      "metadata": {
        "id": "wf_5nsRm4kwi"
      }
    },
    {
      "cell_type": "code",
      "source": [
        "## create 2 subarrays having size (1, 25)\n",
        "result = dataset.reshape(2, 1, 25)\n",
        "print(result)"
      ],
      "metadata": {
        "colab": {
          "base_uri": "https://localhost:8080/"
        },
        "id": "URjQygLr4gdp",
        "outputId": "2db9231b-b76a-4969-cfab-87e5caad65ca"
      },
      "execution_count": 38,
      "outputs": [
        {
          "output_type": "stream",
          "name": "stdout",
          "text": [
            "[[[2.         2.14285714 2.28571429 2.42857143 2.57142857 2.71428571\n",
            "   2.85714286 3.         3.14285714 3.28571429 3.42857143 3.57142857\n",
            "   3.71428571 3.85714286 4.         4.14285714 4.28571429 4.42857143\n",
            "   4.57142857 4.71428571 4.85714286 5.         5.14285714 5.28571429\n",
            "   5.42857143]]\n",
            "\n",
            " [[5.57142857 5.71428571 5.85714286 6.         6.14285714 6.28571429\n",
            "   6.42857143 6.57142857 6.71428571 6.85714286 7.         7.14285714\n",
            "   7.28571429 7.42857143 7.57142857 7.71428571 7.85714286 8.\n",
            "   8.14285714 8.28571429 8.42857143 8.57142857 8.71428571 8.85714286\n",
            "   9.        ]]]\n"
          ]
        }
      ]
    },
    {
      "cell_type": "code",
      "source": [
        "## Convert the dataset to 2 dimensions having shape as (2, 25)\n",
        "result_2D = dataset.reshape(2, 25)\n",
        "result_2D"
      ],
      "metadata": {
        "colab": {
          "base_uri": "https://localhost:8080/"
        },
        "id": "LIiEOWSO41h0",
        "outputId": "4e6800ab-8ac7-452b-fac7-8db82eb9d75c"
      },
      "execution_count": 39,
      "outputs": [
        {
          "output_type": "execute_result",
          "data": {
            "text/plain": [
              "array([[2.        , 2.14285714, 2.28571429, 2.42857143, 2.57142857,\n",
              "        2.71428571, 2.85714286, 3.        , 3.14285714, 3.28571429,\n",
              "        3.42857143, 3.57142857, 3.71428571, 3.85714286, 4.        ,\n",
              "        4.14285714, 4.28571429, 4.42857143, 4.57142857, 4.71428571,\n",
              "        4.85714286, 5.        , 5.14285714, 5.28571429, 5.42857143],\n",
              "       [5.57142857, 5.71428571, 5.85714286, 6.        , 6.14285714,\n",
              "        6.28571429, 6.42857143, 6.57142857, 6.71428571, 6.85714286,\n",
              "        7.        , 7.14285714, 7.28571429, 7.42857143, 7.57142857,\n",
              "        7.71428571, 7.85714286, 8.        , 8.14285714, 8.28571429,\n",
              "        8.42857143, 8.57142857, 8.71428571, 8.85714286, 9.        ]])"
            ]
          },
          "metadata": {},
          "execution_count": 39
        }
      ]
    },
    {
      "cell_type": "code",
      "source": [
        "## Convert the dataset to 2 dimensions having shape as (25, 2)\n",
        "result_2D_v2 = dataset.reshape(25, 2)\n",
        "result_2D_v2"
      ],
      "metadata": {
        "colab": {
          "base_uri": "https://localhost:8080/"
        },
        "id": "Mjcfm7pi5vp6",
        "outputId": "53a18f7e-1c1c-4a94-9743-9d71f4894b27"
      },
      "execution_count": 41,
      "outputs": [
        {
          "output_type": "execute_result",
          "data": {
            "text/plain": [
              "array([[2.        , 2.14285714],\n",
              "       [2.28571429, 2.42857143],\n",
              "       [2.57142857, 2.71428571],\n",
              "       [2.85714286, 3.        ],\n",
              "       [3.14285714, 3.28571429],\n",
              "       [3.42857143, 3.57142857],\n",
              "       [3.71428571, 3.85714286],\n",
              "       [4.        , 4.14285714],\n",
              "       [4.28571429, 4.42857143],\n",
              "       [4.57142857, 4.71428571],\n",
              "       [4.85714286, 5.        ],\n",
              "       [5.14285714, 5.28571429],\n",
              "       [5.42857143, 5.57142857],\n",
              "       [5.71428571, 5.85714286],\n",
              "       [6.        , 6.14285714],\n",
              "       [6.28571429, 6.42857143],\n",
              "       [6.57142857, 6.71428571],\n",
              "       [6.85714286, 7.        ],\n",
              "       [7.14285714, 7.28571429],\n",
              "       [7.42857143, 7.57142857],\n",
              "       [7.71428571, 7.85714286],\n",
              "       [8.        , 8.14285714],\n",
              "       [8.28571429, 8.42857143],\n",
              "       [8.57142857, 8.71428571],\n",
              "       [8.85714286, 9.        ]])"
            ]
          },
          "metadata": {},
          "execution_count": 41
        }
      ]
    },
    {
      "cell_type": "code",
      "source": [
        "## Convert the original dataset to the size (25, 3)\n",
        "## no, it's not possible (25*3 = 75)\n",
        "## result_2D_v2 = dataset.reshape(25, 2)\n",
        "result_2D_v2\n",
        "result_2D_v3 = dataset.reshape(25, 3)\n",
        "result_2D_v3"
      ],
      "metadata": {
        "id": "UVeL8GbY6B9-"
      },
      "execution_count": null,
      "outputs": []
    },
    {
      "cell_type": "code",
      "source": [
        "## Eigenvalues and Eigenvectors (Linear Algebra) [Machine Learning (PCA)]\n",
        "array = np.array([[4, 2], [1, 3]])\n",
        "eigenValue, eigenVector = np.linalg.eig(array)\n",
        "print(eigenValue)\n",
        "print(eigenVector)"
      ],
      "metadata": {
        "colab": {
          "base_uri": "https://localhost:8080/"
        },
        "id": "4Q4XPkmC6cBh",
        "outputId": "48ebe3fe-d26f-4952-9c0b-abbb29163f8d"
      },
      "execution_count": 43,
      "outputs": [
        {
          "output_type": "stream",
          "name": "stdout",
          "text": [
            "[5. 2.]\n",
            "[[ 0.89442719 -0.70710678]\n",
            " [ 0.4472136   0.70710678]]\n"
          ]
        }
      ]
    },
    {
      "cell_type": "code",
      "source": [
        "array"
      ],
      "metadata": {
        "colab": {
          "base_uri": "https://localhost:8080/"
        },
        "id": "h49QKsfP7zAw",
        "outputId": "fe0bd25a-91dd-41d1-ce0d-a268b05182a0"
      },
      "execution_count": 44,
      "outputs": [
        {
          "output_type": "execute_result",
          "data": {
            "text/plain": [
              "array([[4, 2],\n",
              "       [1, 3]])"
            ]
          },
          "metadata": {},
          "execution_count": 44
        }
      ]
    },
    {
      "cell_type": "code",
      "source": [
        "array[:, 1:2]"
      ],
      "metadata": {
        "colab": {
          "base_uri": "https://localhost:8080/"
        },
        "id": "biz9QWxi7-7e",
        "outputId": "9d38e288-7e7a-4527-a9a9-b869a12b2070"
      },
      "execution_count": 51,
      "outputs": [
        {
          "output_type": "execute_result",
          "data": {
            "text/plain": [
              "array([[2],\n",
              "       [3]])"
            ]
          },
          "metadata": {},
          "execution_count": 51
        }
      ]
    },
    {
      "cell_type": "code",
      "source": [
        "array[: , [1]]"
      ],
      "metadata": {
        "colab": {
          "base_uri": "https://localhost:8080/"
        },
        "id": "KjQhfeWJ931S",
        "outputId": "b4d23368-f9a8-47fd-e369-3e2d9e8e1c6a"
      },
      "execution_count": 56,
      "outputs": [
        {
          "output_type": "execute_result",
          "data": {
            "text/plain": [
              "array([[2],\n",
              "       [3]])"
            ]
          },
          "metadata": {},
          "execution_count": 56
        }
      ]
    },
    {
      "cell_type": "code",
      "source": [
        "array[:, 1:]"
      ],
      "metadata": {
        "colab": {
          "base_uri": "https://localhost:8080/"
        },
        "id": "UpUw-etN99zp",
        "outputId": "fe68c344-9c0b-47c4-9568-c2620abc8595"
      },
      "execution_count": 57,
      "outputs": [
        {
          "output_type": "execute_result",
          "data": {
            "text/plain": [
              "array([[2],\n",
              "       [3]])"
            ]
          },
          "metadata": {},
          "execution_count": 57
        }
      ]
    },
    {
      "cell_type": "code",
      "source": [
        "array[:, :1]"
      ],
      "metadata": {
        "colab": {
          "base_uri": "https://localhost:8080/"
        },
        "id": "vy_K51Yq8Te6",
        "outputId": "145fab3a-bad8-4cda-a3f9-132825c08136"
      },
      "execution_count": 54,
      "outputs": [
        {
          "output_type": "execute_result",
          "data": {
            "text/plain": [
              "array([[4],\n",
              "       [1]])"
            ]
          },
          "metadata": {},
          "execution_count": 54
        }
      ]
    },
    {
      "cell_type": "markdown",
      "source": [
        "Slicing operations in an array"
      ],
      "metadata": {
        "id": "Iy_4eDqE-zPE"
      }
    },
    {
      "cell_type": "code",
      "source": [
        "array_v2 = np.array([[1, 2, 3], [4, 5, 6]])\n",
        "array_v2"
      ],
      "metadata": {
        "colab": {
          "base_uri": "https://localhost:8080/"
        },
        "id": "niGvIqEa8qxY",
        "outputId": "7864f6e5-ec83-4d49-bc15-a4f996343c43"
      },
      "execution_count": 58,
      "outputs": [
        {
          "output_type": "execute_result",
          "data": {
            "text/plain": [
              "array([[1, 2, 3],\n",
              "       [4, 5, 6]])"
            ]
          },
          "metadata": {},
          "execution_count": 58
        }
      ]
    },
    {
      "cell_type": "code",
      "source": [
        "array_v2[:, 1:2]"
      ],
      "metadata": {
        "colab": {
          "base_uri": "https://localhost:8080/"
        },
        "id": "9gzWAOWI9KdP",
        "outputId": "ec168142-237e-4dc5-f1b3-44eafa917397"
      },
      "execution_count": 59,
      "outputs": [
        {
          "output_type": "execute_result",
          "data": {
            "text/plain": [
              "array([[2],\n",
              "       [5]])"
            ]
          },
          "metadata": {},
          "execution_count": 59
        }
      ]
    },
    {
      "cell_type": "code",
      "source": [
        "array_v2[:, 1:]"
      ],
      "metadata": {
        "colab": {
          "base_uri": "https://localhost:8080/"
        },
        "id": "Mdz0cRM4-lrW",
        "outputId": "b259f82f-a48b-4463-924a-2f1143ea271a"
      },
      "execution_count": 60,
      "outputs": [
        {
          "output_type": "execute_result",
          "data": {
            "text/plain": [
              "array([[2, 3],\n",
              "       [5, 6]])"
            ]
          },
          "metadata": {},
          "execution_count": 60
        }
      ]
    },
    {
      "cell_type": "code",
      "source": [],
      "metadata": {
        "id": "q-pVbsDu-wZY"
      },
      "execution_count": null,
      "outputs": []
    }
  ]
}