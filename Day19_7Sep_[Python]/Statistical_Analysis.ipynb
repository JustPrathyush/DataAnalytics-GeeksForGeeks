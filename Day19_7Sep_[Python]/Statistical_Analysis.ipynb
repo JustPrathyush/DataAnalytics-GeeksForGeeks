{
  "nbformat": 4,
  "nbformat_minor": 0,
  "metadata": {
    "colab": {
      "provenance": []
    },
    "kernelspec": {
      "name": "python3",
      "display_name": "Python 3"
    },
    "language_info": {
      "name": "python"
    }
  },
  "cells": [
    {
      "cell_type": "markdown",
      "source": [
        "**T-Test Implementation**"
      ],
      "metadata": {
        "id": "LXKSnfMW6MU4"
      }
    },
    {
      "cell_type": "markdown",
      "source": [
        "The average height of adults in a certain country is known to be 168 cm. A scientist believes that the average\n",
        "height of adult residents in a certain city in that country is different. The scientist measures the heights of 40 randomly selected adult residents of the city and finds an average of 171 cm with a standard deviation of 7 cm.Test the scientist's hypothesis at the 0.10 significance level."
      ],
      "metadata": {
        "id": "wNo0u6iEjNDl"
      }
    },
    {
      "cell_type": "code",
      "execution_count": 1,
      "metadata": {
        "colab": {
          "base_uri": "https://localhost:8080/"
        },
        "id": "ZP9yECcKCh9p",
        "outputId": "a500466a-1222-48a6-9ba5-2b487106bf62"
      },
      "outputs": [
        {
          "output_type": "stream",
          "name": "stdout",
          "text": [
            "t-statistic: 2.710523708715754\n",
            "Critical value: 1.6848751217112248\n",
            "Reject the null hypothesis.\n"
          ]
        }
      ],
      "source": [
        "import scipy.stats as stats\n",
        "\n",
        "# Given data\n",
        "population_mean = 168  # Population mean\n",
        "sample_mean = 171  # Sample mean\n",
        "sample_std = 7  # Sample standard deviation\n",
        "sample_size = 40  # Sample size\n",
        "significance_level = 0.10  # Significance level\n",
        "\n",
        "# Calculate the t-statistic\n",
        "t_statistic = (sample_mean - population_mean) / (sample_std / (sample_size ** 0.5))\n",
        "\n",
        "# Calculate the degrees of freedom\n",
        "## degrees_of_freedom = 39\n",
        "degrees_of_freedom = sample_size - 1\n",
        "\n",
        "# Calculate the critical value for a two-tailed test\n",
        "critical_value = stats.t.ppf(1 - significance_level / 2, degrees_of_freedom)\n",
        "\n",
        "# Print the results\n",
        "print(\"t-statistic:\", t_statistic)\n",
        "print(\"Critical value:\", critical_value)\n",
        "\n",
        "# Make a decision\n",
        "if abs(t_statistic) > critical_value:\n",
        "    print(\"Reject the null hypothesis.\")\n",
        "else:\n",
        "    print(\"Fail to reject the null hypothesis.\")"
      ]
    },
    {
      "cell_type": "markdown",
      "source": [
        "**Z-Test Implementation**"
      ],
      "metadata": {
        "id": "BG2Ruh8m6QXq"
      }
    },
    {
      "cell_type": "markdown",
      "source": [
        "A gym trainer claimed that all the new boys in the gym are above the average weight. A random sample of 30 boys has a mean score of 112.5 kg, the population mean weight is 100 kg, and the standard deviation is 15. Is there sufficient evidence to support the claim of the gym trainer, consider the significance level as 0.05?\n",
        "(The z-score of 0.05 is 1.645) - refer to the table\n",
        "Result - reject the H0\n"
      ],
      "metadata": {
        "id": "TxKt7r-5lMm9"
      }
    },
    {
      "cell_type": "code",
      "source": [
        "import numpy as np\n",
        "import scipy.stats as stats\n",
        "\n",
        "n=30\n",
        "x_bar=112.5\n",
        "sigma=15\n",
        "mu_0=100\n",
        "\n",
        "z_test=(x_bar-mu_0)/(sigma/np.sqrt(n))\n",
        "\n",
        "print(\"Z-test calculated value \", z_test)\n",
        "\n",
        "degree_of_freedom=n-1\n",
        "#- p is the probability (e.g., 0.95 for a two-tailed test with alpha=0.05)\n",
        "#loc is the mean (default is 0)\n",
        "#scale is the standard deviation (default is 1)\n",
        "\n",
        "critical_value=stats.norm.ppf(1-0.05,0,1)\n",
        "print(\"Critical Value \", critical_value)\n",
        "\n",
        "## conclusion\n",
        "if z_test>critical_value:\n",
        "    print(\"Reject H0\")\n",
        "else:\n",
        "    print(\"Fail to Reject H0\")"
      ],
      "metadata": {
        "id": "6A6bCAZKCrcv",
        "colab": {
          "base_uri": "https://localhost:8080/"
        },
        "outputId": "41b15f38-3505-45b5-869a-72fd040f5480"
      },
      "execution_count": 2,
      "outputs": [
        {
          "output_type": "stream",
          "name": "stdout",
          "text": [
            "Z-test calculated value  4.564354645876384\n",
            "Critical Value  1.6448536269514722\n",
            "Reject H0\n"
          ]
        }
      ]
    },
    {
      "cell_type": "markdown",
      "source": [
        "**Chi-Square Test Implementation**"
      ],
      "metadata": {
        "id": "cBznhkor6WH0"
      }
    },
    {
      "cell_type": "code",
      "source": [],
      "metadata": {
        "id": "AVveeAoN3NvH"
      },
      "execution_count": 2,
      "outputs": []
    },
    {
      "cell_type": "markdown",
      "source": [
        "**ANOVA Test Implementation**"
      ],
      "metadata": {
        "id": "6BIX9DgF6Z6j"
      }
    },
    {
      "cell_type": "code",
      "source": [],
      "metadata": {
        "id": "7leAfYa_6dSf"
      },
      "execution_count": 2,
      "outputs": []
    }
  ]
}