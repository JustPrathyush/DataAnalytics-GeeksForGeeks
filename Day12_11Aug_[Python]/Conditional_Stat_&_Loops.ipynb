{
  "nbformat": 4,
  "nbformat_minor": 0,
  "metadata": {
    "colab": {
      "provenance": []
    },
    "kernelspec": {
      "name": "python3",
      "display_name": "Python 3"
    },
    "language_info": {
      "name": "python"
    }
  },
  "cells": [
    {
      "cell_type": "code",
      "execution_count": 2,
      "metadata": {
        "colab": {
          "base_uri": "https://localhost:8080/"
        },
        "id": "MIJPppkq0jTZ",
        "outputId": "b6d9a7a7-b972-44f3-92c4-3bfb6bc1cd27"
      },
      "outputs": [
        {
          "output_type": "stream",
          "name": "stdout",
          "text": [
            "hello world\n",
            "hello world\n",
            "hello world\n",
            "hello world\n",
            "hello world\n",
            "hello world\n",
            "hello world\n",
            "hello world\n",
            "hello world\n",
            "hello world\n"
          ]
        }
      ],
      "source": [
        "print('hello world')\n",
        "print('hello world')\n",
        "print('hello world')\n",
        "print('hello world')\n",
        "print('hello world')\n",
        "print('hello world')\n",
        "print('hello world')\n",
        "print('hello world')\n",
        "print('hello world')\n",
        "print('hello world')"
      ]
    },
    {
      "cell_type": "code",
      "source": [
        "for i in range(10):\n",
        "  print('hello world')"
      ],
      "metadata": {
        "colab": {
          "base_uri": "https://localhost:8080/"
        },
        "id": "TGmWd1_f1PKy",
        "outputId": "d3d1e46a-32dc-4e71-eb51-3e59f081a789"
      },
      "execution_count": 3,
      "outputs": [
        {
          "output_type": "stream",
          "name": "stdout",
          "text": [
            "hello world\n",
            "hello world\n",
            "hello world\n",
            "hello world\n",
            "hello world\n",
            "hello world\n",
            "hello world\n",
            "hello world\n",
            "hello world\n",
            "hello world\n"
          ]
        }
      ]
    },
    {
      "cell_type": "code",
      "source": [
        "range(10)"
      ],
      "metadata": {
        "colab": {
          "base_uri": "https://localhost:8080/"
        },
        "id": "jEYx0-0x18u0",
        "outputId": "a0d58a75-4407-444b-a74a-02716a0273e2"
      },
      "execution_count": 4,
      "outputs": [
        {
          "output_type": "execute_result",
          "data": {
            "text/plain": [
              "range(0, 10)"
            ]
          },
          "metadata": {},
          "execution_count": 4
        }
      ]
    },
    {
      "cell_type": "code",
      "source": [
        "## iterative approach via element-wise\n",
        "lst = [2, 4, 7, 10]\n",
        "for num in lst:\n",
        "  print(num)"
      ],
      "metadata": {
        "colab": {
          "base_uri": "https://localhost:8080/"
        },
        "id": "mnCztWD_2BNs",
        "outputId": "f0a3bec1-ee46-4032-b43b-fe6eb3258a8c"
      },
      "execution_count": 5,
      "outputs": [
        {
          "output_type": "stream",
          "name": "stdout",
          "text": [
            "2\n",
            "4\n",
            "7\n",
            "10\n"
          ]
        }
      ]
    },
    {
      "cell_type": "code",
      "source": [
        "## iterative approach via index-wise\n",
        "## time complexity: O(n)\n",
        "## size of the list\n",
        "n = len(lst)\n",
        "for i in range(n):\n",
        "  print(lst[i])"
      ],
      "metadata": {
        "colab": {
          "base_uri": "https://localhost:8080/"
        },
        "id": "YsEeOVTI23yq",
        "outputId": "13087e60-6ef5-4ac3-9337-a83ca4cb2eca"
      },
      "execution_count": 6,
      "outputs": [
        {
          "output_type": "stream",
          "name": "stdout",
          "text": [
            "2\n",
            "4\n",
            "7\n",
            "10\n"
          ]
        }
      ]
    },
    {
      "cell_type": "code",
      "source": [
        "## nested loops\n",
        "## time complexity: O(n^2)\n",
        "for i in range(n):\n",
        "  for j in range(n):\n",
        "    print(lst[j])"
      ],
      "metadata": {
        "colab": {
          "base_uri": "https://localhost:8080/"
        },
        "id": "bp0L5Ldy3EUr",
        "outputId": "b440d737-a525-49ef-ea96-04e8e06a8bc5"
      },
      "execution_count": 7,
      "outputs": [
        {
          "output_type": "stream",
          "name": "stdout",
          "text": [
            "2\n",
            "4\n",
            "7\n",
            "10\n",
            "2\n",
            "4\n",
            "7\n",
            "10\n",
            "2\n",
            "4\n",
            "7\n",
            "10\n",
            "2\n",
            "4\n",
            "7\n",
            "10\n"
          ]
        }
      ]
    },
    {
      "cell_type": "markdown",
      "source": [
        "While loop"
      ],
      "metadata": {
        "id": "28x16AFt6i9a"
      }
    },
    {
      "cell_type": "code",
      "source": [
        "num = 10\n",
        "while num > 0:\n",
        "  print('hello world')\n",
        "  num = num - 1"
      ],
      "metadata": {
        "colab": {
          "base_uri": "https://localhost:8080/"
        },
        "id": "cEuo0HK94ZcP",
        "outputId": "beb22e3e-3b53-4481-c525-50c49ac0b7e1"
      },
      "execution_count": 8,
      "outputs": [
        {
          "output_type": "stream",
          "name": "stdout",
          "text": [
            "hello world\n",
            "hello world\n",
            "hello world\n",
            "hello world\n",
            "hello world\n",
            "hello world\n",
            "hello world\n",
            "hello world\n",
            "hello world\n",
            "hello world\n"
          ]
        }
      ]
    },
    {
      "cell_type": "code",
      "source": [
        "## time complexity: O(1)\n",
        "score = 45\n",
        "\n",
        "if score > 85:\n",
        "  print('Distinction')\n",
        "elif score > 60:\n",
        "  print('First Class')\n",
        "elif score > 40:\n",
        "  print('Average')\n",
        "else:\n",
        "  print('Fail')"
      ],
      "metadata": {
        "colab": {
          "base_uri": "https://localhost:8080/"
        },
        "id": "D1WJO50R67-G",
        "outputId": "715f4291-d413-40bf-a446-8cc228bcb313"
      },
      "execution_count": 12,
      "outputs": [
        {
          "output_type": "stream",
          "name": "stdout",
          "text": [
            "Average\n"
          ]
        }
      ]
    },
    {
      "cell_type": "markdown",
      "source": [
        "Functions in Python"
      ],
      "metadata": {
        "id": "GQVRXkQI85Cs"
      }
    },
    {
      "cell_type": "code",
      "source": [
        "## user-defined functions\n",
        "\n",
        "## function definition\n",
        "def add(x, y):\n",
        "  return x + y\n",
        "\n",
        "def mul(x, y):\n",
        "  return x * y\n",
        "\n",
        "## function calling\n",
        "result = add(23,34)\n",
        "multiplication = mul(24, 35)\n",
        "\n",
        "#print(result)\n",
        "print(multiplication)"
      ],
      "metadata": {
        "colab": {
          "base_uri": "https://localhost:8080/"
        },
        "id": "ycAX3tYC8bGt",
        "outputId": "7e07e51b-2b62-4642-cf02-51e7c002a41f"
      },
      "execution_count": 16,
      "outputs": [
        {
          "output_type": "stream",
          "name": "stdout",
          "text": [
            "840\n"
          ]
        }
      ]
    },
    {
      "cell_type": "markdown",
      "source": [
        "Lambda Functions: Anonymous functions"
      ],
      "metadata": {
        "id": "KNts-Z-p_W1-"
      }
    },
    {
      "cell_type": "code",
      "source": [
        "add = lambda x, y: x+y\n",
        "result = add(2,3)\n",
        "print(result)"
      ],
      "metadata": {
        "colab": {
          "base_uri": "https://localhost:8080/"
        },
        "id": "FJ6dHP_0-x-8",
        "outputId": "b46bde68-e605-4daa-8086-0e599f723be7"
      },
      "execution_count": 17,
      "outputs": [
        {
          "output_type": "stream",
          "name": "stdout",
          "text": [
            "5\n"
          ]
        }
      ]
    },
    {
      "cell_type": "markdown",
      "source": [
        "Built-in functions"
      ],
      "metadata": {
        "id": "WyKz0-0J_5iK"
      }
    },
    {
      "cell_type": "code",
      "source": [
        "## map function -> mapping of all the results\n",
        "lst = [2, 4, 5, 7, 9]\n",
        "powerOfTwo = map(lambda x:x**2, lst)\n",
        "print(list(powerOfTwo))"
      ],
      "metadata": {
        "colab": {
          "base_uri": "https://localhost:8080/"
        },
        "id": "-Zt8IgHU_nRr",
        "outputId": "2a194cac-bffa-4339-dd6b-43bf7ca5dffd"
      },
      "execution_count": 18,
      "outputs": [
        {
          "output_type": "stream",
          "name": "stdout",
          "text": [
            "[4, 16, 25, 49, 81]\n"
          ]
        }
      ]
    },
    {
      "cell_type": "code",
      "source": [
        "## filter function -> subset of the given list as a part of the result\n",
        "## display those values which are even numbers\n",
        "evenValuesFilter = filter(lambda x: x%2 == 0, lst)\n",
        "print(list(evenValuesFilter))"
      ],
      "metadata": {
        "colab": {
          "base_uri": "https://localhost:8080/"
        },
        "id": "WoMr-9BsApCt",
        "outputId": "f0ffceb5-978d-40e4-aa6f-1685bf630427"
      },
      "execution_count": 19,
      "outputs": [
        {
          "output_type": "stream",
          "name": "stdout",
          "text": [
            "[2, 4]\n"
          ]
        }
      ]
    },
    {
      "cell_type": "markdown",
      "source": [
        "List comprehensions"
      ],
      "metadata": {
        "id": "xF-F0vxdCm84"
      }
    },
    {
      "cell_type": "code",
      "source": [
        "lst = [2, 4, 6, 8]\n",
        "squared = [num**3 for num in lst]\n",
        "print(squared)"
      ],
      "metadata": {
        "colab": {
          "base_uri": "https://localhost:8080/"
        },
        "id": "q0ZxfYseCPXG",
        "outputId": "f845c48a-6061-484c-a46e-f3092bfdf26c"
      },
      "execution_count": 22,
      "outputs": [
        {
          "output_type": "stream",
          "name": "stdout",
          "text": [
            "[8, 64, 216, 512]\n"
          ]
        }
      ]
    },
    {
      "cell_type": "code",
      "source": [],
      "metadata": {
        "id": "eWrONmRfDXow"
      },
      "execution_count": null,
      "outputs": []
    }
  ]
}