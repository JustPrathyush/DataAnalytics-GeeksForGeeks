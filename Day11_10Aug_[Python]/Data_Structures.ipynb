{
  "nbformat": 4,
  "nbformat_minor": 0,
  "metadata": {
    "colab": {
      "provenance": []
    },
    "kernelspec": {
      "name": "python3",
      "display_name": "Python 3"
    },
    "language_info": {
      "name": "python"
    }
  },
  "cells": [
    {
      "cell_type": "markdown",
      "source": [
        "**Python's Internal Working**"
      ],
      "metadata": {
        "id": "QE0P_GgofZbb"
      }
    },
    {
      "cell_type": "code",
      "source": [
        "a = 2\n",
        "b = 2\n",
        "print(b)"
      ],
      "metadata": {
        "id": "iY8Qw5fpf02p",
        "colab": {
          "base_uri": "https://localhost:8080/"
        },
        "outputId": "ba8c8923-02e6-42ec-d647-77d166fa8ec2"
      },
      "execution_count": 1,
      "outputs": [
        {
          "output_type": "stream",
          "name": "stdout",
          "text": [
            "2\n"
          ]
        }
      ]
    },
    {
      "cell_type": "code",
      "source": [
        "b = \"Priya\"\n",
        "print(b)"
      ],
      "metadata": {
        "colab": {
          "base_uri": "https://localhost:8080/"
        },
        "id": "Vxw5HcIiff2Y",
        "outputId": "f73dcbfc-92c9-407a-d6e7-4887e7d0f290"
      },
      "execution_count": 2,
      "outputs": [
        {
          "output_type": "stream",
          "name": "stdout",
          "text": [
            "Priya\n"
          ]
        }
      ]
    },
    {
      "cell_type": "markdown",
      "source": [
        "### 1. List Data Structure: Mutable"
      ],
      "metadata": {
        "id": "fJMwW2cItAR2"
      }
    },
    {
      "cell_type": "code",
      "source": [
        "lst = [24, 47, 76, 64, 42, 65, 67]\n",
        "print(lst)"
      ],
      "metadata": {
        "colab": {
          "base_uri": "https://localhost:8080/"
        },
        "id": "UPcK0xpUfnhJ",
        "outputId": "5397dd4a-81e3-4be9-bf4f-cd72e8c2f5a1"
      },
      "execution_count": 3,
      "outputs": [
        {
          "output_type": "stream",
          "name": "stdout",
          "text": [
            "[24, 47, 76, 64, 42, 65, 67]\n"
          ]
        }
      ]
    },
    {
      "cell_type": "code",
      "source": [
        "lst.append(74)\n",
        "print(lst)"
      ],
      "metadata": {
        "colab": {
          "base_uri": "https://localhost:8080/"
        },
        "id": "0snjmswKhNu4",
        "outputId": "328c0a43-00c5-43b3-d2c0-c13398fb3786"
      },
      "execution_count": 4,
      "outputs": [
        {
          "output_type": "stream",
          "name": "stdout",
          "text": [
            "[24, 47, 76, 64, 42, 65, 67, 74]\n"
          ]
        }
      ]
    },
    {
      "cell_type": "code",
      "source": [
        "lst.append(\"Priya\")\n",
        "print(lst)"
      ],
      "metadata": {
        "colab": {
          "base_uri": "https://localhost:8080/"
        },
        "id": "i29e0yVvhUFz",
        "outputId": "6750ac79-ae8c-41de-e588-3c9fd1928eef"
      },
      "execution_count": 5,
      "outputs": [
        {
          "output_type": "stream",
          "name": "stdout",
          "text": [
            "[24, 47, 76, 64, 42, 65, 67, 74, 'Priya']\n"
          ]
        }
      ]
    },
    {
      "cell_type": "markdown",
      "source": [
        "List of list: In one list, there is another list available"
      ],
      "metadata": {
        "id": "EqcKH6ZgntHQ"
      }
    },
    {
      "cell_type": "code",
      "source": [
        "lst.append([2, 4, 6])\n",
        "print(lst)"
      ],
      "metadata": {
        "colab": {
          "base_uri": "https://localhost:8080/"
        },
        "id": "LyWZEMIgnIYd",
        "outputId": "21d863e9-f203-433e-d434-93290afb15ce"
      },
      "execution_count": 6,
      "outputs": [
        {
          "output_type": "stream",
          "name": "stdout",
          "text": [
            "[24, 47, 76, 64, 42, 65, 67, 74, 'Priya', [2, 4, 6]]\n"
          ]
        }
      ]
    },
    {
      "cell_type": "markdown",
      "source": [
        "Slicing: Subset of the list"
      ],
      "metadata": {
        "id": "5f3a-t7zoC8y"
      }
    },
    {
      "cell_type": "code",
      "source": [
        "lst[-1]"
      ],
      "metadata": {
        "colab": {
          "base_uri": "https://localhost:8080/"
        },
        "id": "XHFhQXjJnkvD",
        "outputId": "11c7014f-61db-4d37-d931-4653311ea76b"
      },
      "execution_count": 7,
      "outputs": [
        {
          "output_type": "execute_result",
          "data": {
            "text/plain": [
              "[2, 4, 6]"
            ]
          },
          "metadata": {},
          "execution_count": 7
        }
      ]
    },
    {
      "cell_type": "code",
      "source": [
        "lst[9]"
      ],
      "metadata": {
        "colab": {
          "base_uri": "https://localhost:8080/"
        },
        "id": "MoY9M6CsoO1R",
        "outputId": "f07df5f4-b58b-44da-ca45-c7e38ced843f"
      },
      "execution_count": 8,
      "outputs": [
        {
          "output_type": "execute_result",
          "data": {
            "text/plain": [
              "[2, 4, 6]"
            ]
          },
          "metadata": {},
          "execution_count": 8
        }
      ]
    },
    {
      "cell_type": "markdown",
      "source": [
        "Access the element '4'"
      ],
      "metadata": {
        "id": "bfIcz9vepgC6"
      }
    },
    {
      "cell_type": "code",
      "source": [
        "lst[9][1]"
      ],
      "metadata": {
        "colab": {
          "base_uri": "https://localhost:8080/"
        },
        "id": "03HQlkX3oSTp",
        "outputId": "9c630e87-218a-4542-fc83-16fc2a24aa1e"
      },
      "execution_count": 9,
      "outputs": [
        {
          "output_type": "execute_result",
          "data": {
            "text/plain": [
              "4"
            ]
          },
          "metadata": {},
          "execution_count": 9
        }
      ]
    },
    {
      "cell_type": "code",
      "source": [
        "lst.append([3,[5, 6, 9], 12])\n",
        "lst"
      ],
      "metadata": {
        "colab": {
          "base_uri": "https://localhost:8080/"
        },
        "id": "ImZVGmapowR5",
        "outputId": "de2eead4-a921-4564-b436-c3113d739ebe"
      },
      "execution_count": 10,
      "outputs": [
        {
          "output_type": "execute_result",
          "data": {
            "text/plain": [
              "[24, 47, 76, 64, 42, 65, 67, 74, 'Priya', [2, 4, 6], [3, [5, 6, 9], 12]]"
            ]
          },
          "metadata": {},
          "execution_count": 10
        }
      ]
    },
    {
      "cell_type": "code",
      "source": [
        "lst[10]"
      ],
      "metadata": {
        "colab": {
          "base_uri": "https://localhost:8080/"
        },
        "id": "8ibv1_Z4pHq4",
        "outputId": "2793f03b-c878-447c-d487-9c4f00a482d7"
      },
      "execution_count": 11,
      "outputs": [
        {
          "output_type": "execute_result",
          "data": {
            "text/plain": [
              "[3, [5, 6, 9], 12]"
            ]
          },
          "metadata": {},
          "execution_count": 11
        }
      ]
    },
    {
      "cell_type": "code",
      "source": [
        "lst[-1]"
      ],
      "metadata": {
        "colab": {
          "base_uri": "https://localhost:8080/"
        },
        "id": "NBwjMHyHp5qg",
        "outputId": "b015d7e1-e11d-40c2-d170-f439cb6c3fce"
      },
      "execution_count": 12,
      "outputs": [
        {
          "output_type": "execute_result",
          "data": {
            "text/plain": [
              "[3, [5, 6, 9], 12]"
            ]
          },
          "metadata": {},
          "execution_count": 12
        }
      ]
    },
    {
      "cell_type": "markdown",
      "source": [
        "Access the element '6'"
      ],
      "metadata": {
        "id": "bMfwcQp6pcOt"
      }
    },
    {
      "cell_type": "code",
      "source": [
        "lst[10][1]"
      ],
      "metadata": {
        "colab": {
          "base_uri": "https://localhost:8080/"
        },
        "id": "s3sN5hW2pYw6",
        "outputId": "95bfa577-bf11-4f2d-8189-611559cf32e1"
      },
      "execution_count": 13,
      "outputs": [
        {
          "output_type": "execute_result",
          "data": {
            "text/plain": [
              "[5, 6, 9]"
            ]
          },
          "metadata": {},
          "execution_count": 13
        }
      ]
    },
    {
      "cell_type": "code",
      "source": [
        "lst[10][1][1]"
      ],
      "metadata": {
        "colab": {
          "base_uri": "https://localhost:8080/"
        },
        "id": "BMYg9nxzp_bi",
        "outputId": "0270b124-d1f7-4b93-efda-78dde71539f0"
      },
      "execution_count": 14,
      "outputs": [
        {
          "output_type": "execute_result",
          "data": {
            "text/plain": [
              "6"
            ]
          },
          "metadata": {},
          "execution_count": 14
        }
      ]
    },
    {
      "cell_type": "code",
      "source": [
        "lst.index(64)"
      ],
      "metadata": {
        "colab": {
          "base_uri": "https://localhost:8080/"
        },
        "id": "IY1GedqyqCMh",
        "outputId": "14d7638e-7c68-4d7f-8a14-863f2425623e"
      },
      "execution_count": 15,
      "outputs": [
        {
          "output_type": "execute_result",
          "data": {
            "text/plain": [
              "3"
            ]
          },
          "metadata": {},
          "execution_count": 15
        }
      ]
    },
    {
      "cell_type": "code",
      "source": [
        "lst.index(65)"
      ],
      "metadata": {
        "colab": {
          "base_uri": "https://localhost:8080/"
        },
        "id": "DSw5h-RvqfRY",
        "outputId": "9b4604dc-cb50-45e9-bd9e-8d9909fcad33"
      },
      "execution_count": 16,
      "outputs": [
        {
          "output_type": "execute_result",
          "data": {
            "text/plain": [
              "5"
            ]
          },
          "metadata": {},
          "execution_count": 16
        }
      ]
    },
    {
      "cell_type": "code",
      "source": [
        "lst[9].index(6)"
      ],
      "metadata": {
        "colab": {
          "base_uri": "https://localhost:8080/"
        },
        "id": "-zf3ldmvql3t",
        "outputId": "a4ae510c-617b-4084-8722-f5f14263cbcc"
      },
      "execution_count": 17,
      "outputs": [
        {
          "output_type": "execute_result",
          "data": {
            "text/plain": [
              "2"
            ]
          },
          "metadata": {},
          "execution_count": 17
        }
      ]
    },
    {
      "cell_type": "markdown",
      "source": [
        "### Insert is used to add data item in specific point in the list"
      ],
      "metadata": {
        "id": "uKKIj82gWoLW"
      }
    },
    {
      "cell_type": "code",
      "source": [
        "lst.insert(2, 72)\n",
        "lst"
      ],
      "metadata": {
        "colab": {
          "base_uri": "https://localhost:8080/"
        },
        "id": "n4j7QFTequFM",
        "outputId": "636220fd-24f8-4f22-cea5-fa0448f9074e"
      },
      "execution_count": 18,
      "outputs": [
        {
          "output_type": "execute_result",
          "data": {
            "text/plain": [
              "[24, 47, 72, 76, 64, 42, 65, 67, 74, 'Priya', [2, 4, 6], [3, [5, 6, 9], 12]]"
            ]
          },
          "metadata": {},
          "execution_count": 18
        }
      ]
    },
    {
      "cell_type": "code",
      "source": [
        "lst.append(67)\n",
        "lst.index(67)"
      ],
      "metadata": {
        "colab": {
          "base_uri": "https://localhost:8080/"
        },
        "id": "m-dRNO4Vr9yK",
        "outputId": "1c85faa9-961e-4750-d270-cbeae8a0a59c"
      },
      "execution_count": 21,
      "outputs": [
        {
          "output_type": "execute_result",
          "data": {
            "text/plain": [
              "4"
            ]
          },
          "metadata": {},
          "execution_count": 21
        }
      ]
    },
    {
      "cell_type": "code",
      "source": [
        "lst"
      ],
      "metadata": {
        "colab": {
          "base_uri": "https://localhost:8080/"
        },
        "id": "hfY5mJuetj3Q",
        "outputId": "cd46f5e1-d2a6-4d58-c14a-406f458d074f"
      },
      "execution_count": 22,
      "outputs": [
        {
          "output_type": "execute_result",
          "data": {
            "text/plain": [
              "[[3, [5, 6, 9], 12],\n",
              " [2, 4, 6],\n",
              " 'Priya',\n",
              " 74,\n",
              " 67,\n",
              " 65,\n",
              " 42,\n",
              " 64,\n",
              " 76,\n",
              " 72,\n",
              " 47,\n",
              " 24,\n",
              " 67]"
            ]
          },
          "metadata": {},
          "execution_count": 22
        }
      ]
    },
    {
      "cell_type": "markdown",
      "source": [
        "### Reverse: Inplace [no new datastructure is being used] operation in a list"
      ],
      "metadata": {
        "id": "UBsuOhYzsuzw"
      }
    },
    {
      "cell_type": "code",
      "source": [
        "lst.reverse()\n",
        "print(lst)"
      ],
      "metadata": {
        "colab": {
          "base_uri": "https://localhost:8080/"
        },
        "id": "D79H6QqgrkEy",
        "outputId": "ba9b28c4-6490-452a-b483-c80efbecd820"
      },
      "execution_count": 19,
      "outputs": [
        {
          "output_type": "stream",
          "name": "stdout",
          "text": [
            "[[3, [5, 6, 9], 12], [2, 4, 6], 'Priya', 74, 67, 65, 42, 64, 76, 72, 47, 24]\n"
          ]
        }
      ]
    },
    {
      "cell_type": "code",
      "source": [
        "lst2 = [2, 5, 7, 9]\n",
        "print(lst2.reverse())\n",
        "print(lst2)"
      ],
      "metadata": {
        "colab": {
          "base_uri": "https://localhost:8080/"
        },
        "id": "WrttnH1Vrtqz",
        "outputId": "1ee74bf3-6f7a-4a70-862e-42590dda97da"
      },
      "execution_count": 20,
      "outputs": [
        {
          "output_type": "stream",
          "name": "stdout",
          "text": [
            "None\n",
            "[9, 7, 5, 2]\n"
          ]
        }
      ]
    },
    {
      "cell_type": "markdown",
      "source": [
        "### Tuple: Immutable"
      ],
      "metadata": {
        "id": "Djyn7v7QuLWv"
      }
    },
    {
      "cell_type": "code",
      "source": [
        "tup = (2, 4, 8, 12, 'priya', (5,6))\n",
        "tup"
      ],
      "metadata": {
        "colab": {
          "base_uri": "https://localhost:8080/"
        },
        "id": "UskdIsajtlK3",
        "outputId": "be180430-fbd4-41fe-b99a-6a4b7cd2895b"
      },
      "execution_count": 23,
      "outputs": [
        {
          "output_type": "execute_result",
          "data": {
            "text/plain": [
              "(2, 4, 8, 12, 'priya', (5, 6))"
            ]
          },
          "metadata": {},
          "execution_count": 23
        }
      ]
    },
    {
      "cell_type": "code",
      "source": [
        "tup[5]"
      ],
      "metadata": {
        "colab": {
          "base_uri": "https://localhost:8080/"
        },
        "id": "7C8c2ZPIu3_1",
        "outputId": "17c41ca0-f38d-4fa3-deec-ed08621f3fda"
      },
      "execution_count": 24,
      "outputs": [
        {
          "output_type": "execute_result",
          "data": {
            "text/plain": [
              "(5, 6)"
            ]
          },
          "metadata": {},
          "execution_count": 24
        }
      ]
    },
    {
      "cell_type": "code",
      "source": [
        "tup[-1]"
      ],
      "metadata": {
        "colab": {
          "base_uri": "https://localhost:8080/"
        },
        "id": "uMDP5xO9vIlC",
        "outputId": "cac118f4-ea8c-402a-b20b-fc8fb24ad769"
      },
      "execution_count": 25,
      "outputs": [
        {
          "output_type": "execute_result",
          "data": {
            "text/plain": [
              "(5, 6)"
            ]
          },
          "metadata": {},
          "execution_count": 25
        }
      ]
    },
    {
      "cell_type": "code",
      "source": [
        "tup[-1][1]"
      ],
      "metadata": {
        "colab": {
          "base_uri": "https://localhost:8080/"
        },
        "id": "yJrccpscvK5M",
        "outputId": "7ceab3ed-b9cd-4e52-beb2-3e6c9cdf7c38"
      },
      "execution_count": 26,
      "outputs": [
        {
          "output_type": "execute_result",
          "data": {
            "text/plain": [
              "6"
            ]
          },
          "metadata": {},
          "execution_count": 26
        }
      ]
    },
    {
      "cell_type": "code",
      "source": [
        "tup.index(12)"
      ],
      "metadata": {
        "colab": {
          "base_uri": "https://localhost:8080/"
        },
        "id": "CYpKB2A4vXJL",
        "outputId": "33d18fec-5944-432c-b47c-9fd193064f4f"
      },
      "execution_count": 27,
      "outputs": [
        {
          "output_type": "execute_result",
          "data": {
            "text/plain": [
              "3"
            ]
          },
          "metadata": {},
          "execution_count": 27
        }
      ]
    },
    {
      "cell_type": "code",
      "source": [
        "tup.count(12)"
      ],
      "metadata": {
        "colab": {
          "base_uri": "https://localhost:8080/"
        },
        "id": "PdaAIkEkvogh",
        "outputId": "ea49775c-ae20-46e5-c0b1-15081b6cca70"
      },
      "execution_count": 28,
      "outputs": [
        {
          "output_type": "execute_result",
          "data": {
            "text/plain": [
              "1"
            ]
          },
          "metadata": {},
          "execution_count": 28
        }
      ]
    },
    {
      "cell_type": "markdown",
      "source": [
        "\n",
        "*   Tuple is a immutable data structure whereas List is a mutable data structure\n",
        "*   Tuple does a faster operation as comparable to a List\n",
        "\n",
        "\n"
      ],
      "metadata": {
        "id": "STB3gLgxwd41"
      }
    },
    {
      "cell_type": "code",
      "source": [
        "## tup[1] = 5 this code would raise a typeerror because of the property of the tuple as immutable"
      ],
      "metadata": {
        "id": "0ijtSAaVwwnt"
      },
      "execution_count": null,
      "outputs": []
    },
    {
      "cell_type": "markdown",
      "source": [
        "Practical realtime use cases in the industry: List or Tuple which one is heavily used to store the data and why?\n",
        "\n",
        "\n",
        "Answer: List [Insertion, Deletion, Update of the elements very frequently], Tuple [Data size is fixed and retrieval operations]"
      ],
      "metadata": {
        "id": "Y_p-vdDwxnHG"
      }
    },
    {
      "cell_type": "markdown",
      "source": [
        "Set: Eliminate the duplicate entries"
      ],
      "metadata": {
        "id": "a3zd3sdNxc9g"
      }
    },
    {
      "cell_type": "code",
      "source": [
        "my_set = {1, 2, 3, 4, 5, 6, 7}\n",
        "my_set"
      ],
      "metadata": {
        "colab": {
          "base_uri": "https://localhost:8080/"
        },
        "id": "spD56R-Pxb4n",
        "outputId": "705d98c7-7479-40ae-85b5-721054d6db01"
      },
      "execution_count": 29,
      "outputs": [
        {
          "output_type": "execute_result",
          "data": {
            "text/plain": [
              "{1, 2, 3, 4, 5, 6, 7}"
            ]
          },
          "metadata": {},
          "execution_count": 29
        }
      ]
    },
    {
      "cell_type": "code",
      "source": [
        "my_set.add(2)\n",
        "my_set"
      ],
      "metadata": {
        "colab": {
          "base_uri": "https://localhost:8080/"
        },
        "id": "vm5RNgwnyvxP",
        "outputId": "3f74262a-5bcb-4ce0-980f-d08ce54703a6"
      },
      "execution_count": 30,
      "outputs": [
        {
          "output_type": "execute_result",
          "data": {
            "text/plain": [
              "{1, 2, 3, 4, 5, 6, 7}"
            ]
          },
          "metadata": {},
          "execution_count": 30
        }
      ]
    },
    {
      "cell_type": "code",
      "source": [
        "my_set.add(8)\n",
        "my_set"
      ],
      "metadata": {
        "colab": {
          "base_uri": "https://localhost:8080/"
        },
        "id": "LI3YT7dZzBsb",
        "outputId": "8930bd86-4bf9-4a55-94c2-2d84ac013cd9"
      },
      "execution_count": 31,
      "outputs": [
        {
          "output_type": "execute_result",
          "data": {
            "text/plain": [
              "{1, 2, 3, 4, 5, 6, 7, 8}"
            ]
          },
          "metadata": {},
          "execution_count": 31
        }
      ]
    },
    {
      "cell_type": "code",
      "source": [
        "my_set.remove(2)"
      ],
      "metadata": {
        "id": "yQVRv7_zzFi5"
      },
      "execution_count": 32,
      "outputs": []
    },
    {
      "cell_type": "code",
      "source": [
        "my_set"
      ],
      "metadata": {
        "colab": {
          "base_uri": "https://localhost:8080/"
        },
        "id": "XK0X78nRzRMP",
        "outputId": "d4f41064-ff76-4517-a316-0eaf6e61fb10"
      },
      "execution_count": 33,
      "outputs": [
        {
          "output_type": "execute_result",
          "data": {
            "text/plain": [
              "{1, 3, 4, 5, 6, 7, 8}"
            ]
          },
          "metadata": {},
          "execution_count": 33
        }
      ]
    },
    {
      "cell_type": "markdown",
      "source": [
        "Remove the duplicate elements from a given list\n",
        "\n",
        "lst1 = [1, 2, 2, 3, 4, 5, 7, 4]"
      ],
      "metadata": {
        "id": "VgqmMk6zzYqp"
      }
    },
    {
      "cell_type": "code",
      "source": [
        "lst1 = [1, 2, 2, 3, 4, 5, 7, 4]\n",
        "print(set(lst1))"
      ],
      "metadata": {
        "colab": {
          "base_uri": "https://localhost:8080/"
        },
        "id": "npzaK_udzSMd",
        "outputId": "4493c71e-b6a6-40f1-f334-bb0fdb67ceb9"
      },
      "execution_count": 34,
      "outputs": [
        {
          "output_type": "stream",
          "name": "stdout",
          "text": [
            "{1, 2, 3, 4, 5, 7}\n"
          ]
        }
      ]
    }
  ]
}
